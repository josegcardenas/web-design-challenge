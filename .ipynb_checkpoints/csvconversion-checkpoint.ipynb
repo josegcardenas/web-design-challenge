{
 "cells": [
  {
   "cell_type": "code",
   "execution_count": null,
   "id": "eeebfbea-3ee5-466e-b66a-b5ef0a8761a0",
   "metadata": {},
   "outputs": [],
   "source": [
    "#Converting my csv to html"
   ]
  },
  {
   "cell_type": "code",
   "execution_count": 1,
   "id": "daa09c6c-4e4a-4c68-b61a-45df7477c5b4",
   "metadata": {},
   "outputs": [],
   "source": [
    "import os\n",
    "import pandas as pd"
   ]
  },
  {
   "cell_type": "code",
   "execution_count": 2,
   "id": "c0a4495e-28f2-487f-bb6b-270d80f0977e",
   "metadata": {},
   "outputs": [],
   "source": [
    "csv_path = os.path.join('Resources', 'cities.csv')\n",
    "cities_csv = pd.read_csv(csv_path)"
   ]
  },
  {
   "cell_type": "code",
   "execution_count": 3,
   "id": "192ecdcf-7ff4-4b99-966f-4b6f5af1b536",
   "metadata": {},
   "outputs": [],
   "source": [
    "cities_csv.to_html('data.html', index=False, classes=['table', 'table-striped', 'table-hover'])"
   ]
  },
  {
   "cell_type": "code",
   "execution_count": null,
   "id": "92c31aea-063d-4106-8c4d-cf5ff50cd14b",
   "metadata": {},
   "outputs": [],
   "source": []
  }
 ],
 "metadata": {
  "kernelspec": {
   "display_name": "Python 3",
   "language": "python",
   "name": "python3"
  },
  "language_info": {
   "codemirror_mode": {
    "name": "ipython",
    "version": 3
   },
   "file_extension": ".py",
   "mimetype": "text/x-python",
   "name": "python",
   "nbconvert_exporter": "python",
   "pygments_lexer": "ipython3",
   "version": "3.8.8"
  }
 },
 "nbformat": 4,
 "nbformat_minor": 5
}
